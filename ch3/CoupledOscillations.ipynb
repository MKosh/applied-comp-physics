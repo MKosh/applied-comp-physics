{
 "cells": [
  {
   "attachments": {},
   "cell_type": "markdown",
   "metadata": {},
   "source": [
    "# Coupled Oscillations\n",
    "---\n",
    "$N$ beads connected by ideal springs with mass $m_i$. The masses on the ends are only connected on one side. The position of the $i^{th}$ bead with respect to the equilibrium position is $x_{i}(t)$.\n",
    "\n",
    "The force on the $i^{th}$ bead is\n",
    "$$m_i\\frac{d^2 x_i}{dt^2} = k_i(x_{i-1} - x_i) + k_{i+1}(x_{i+1} - x_i)$$"
   ]
  },
  {
   "cell_type": "code",
   "execution_count": 1,
   "metadata": {},
   "outputs": [],
   "source": [
    "int x = 2;\n",
    "int y = 3;"
   ]
  }
 ],
 "metadata": {
  "kernelspec": {
   "display_name": "ROOT C++",
   "language": "c++",
   "name": "root"
  },
  "language_info": {
   "codemirror_mode": "text/x-c++src",
   "file_extension": ".C",
   "mimetype": " text/x-c++src",
   "name": "c++"
  },
  "orig_nbformat": 4
 },
 "nbformat": 4,
 "nbformat_minor": 2
}
